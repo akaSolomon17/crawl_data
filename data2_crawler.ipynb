{
 "cells": [
  {
   "cell_type": "code",
   "execution_count": 8,
   "metadata": {},
   "outputs": [],
   "source": [
    "import requests\n",
    "from bs4 import BeautifulSoup\n",
    "\n",
    "url =  \"https://webscraper.io/test-sites/e-commerce/allinone/computers/laptops\"\n",
    "\n",
    "response = requests.get(url)"
   ]
  },
  {
   "cell_type": "code",
   "execution_count": 9,
   "metadata": {},
   "outputs": [],
   "source": [
    "if response.status_code == 200:\n",
    "    soup = BeautifulSoup(response.content, \"html.parser\")"
   ]
  },
  {
   "cell_type": "code",
   "execution_count": 10,
   "metadata": {},
   "outputs": [
    {
     "ename": "AttributeError",
     "evalue": "ResultSet object has no attribute 'content'. You're probably treating a list of elements like a single element. Did you call find_all() when you meant to call find()?",
     "output_type": "error",
     "traceback": [
      "\u001b[1;31m---------------------------------------------------------------------------\u001b[0m",
      "\u001b[1;31mAttributeError\u001b[0m                            Traceback (most recent call last)",
      "\u001b[1;32mc:\\DAC\\dac_crawldata_practice\\data2_crawler.ipynb Cell 3\u001b[0m line \u001b[0;36m2\n\u001b[0;32m      <a href='vscode-notebook-cell:/c%3A/DAC/dac_crawldata_practice/data2_crawler.ipynb#W2sZmlsZQ%3D%3D?line=0'>1</a>\u001b[0m drows \u001b[39m=\u001b[39m soup\u001b[39m.\u001b[39mfind_all(\u001b[39m\"\u001b[39m\u001b[39mdiv\u001b[39m\u001b[39m\"\u001b[39m,class_ \u001b[39m=\u001b[39m \u001b[39m\"\u001b[39m\u001b[39mrow\u001b[39m\u001b[39m\"\u001b[39m)\n\u001b[1;32m----> <a href='vscode-notebook-cell:/c%3A/DAC/dac_crawldata_practice/data2_crawler.ipynb#W2sZmlsZQ%3D%3D?line=1'>2</a>\u001b[0m rows \u001b[39m=\u001b[39mdrows\u001b[39m.\u001b[39;49mcontent[\u001b[39m1\u001b[39m]\n\u001b[0;32m      <a href='vscode-notebook-cell:/c%3A/DAC/dac_crawldata_practice/data2_crawler.ipynb#W2sZmlsZQ%3D%3D?line=2'>3</a>\u001b[0m \u001b[39mprint\u001b[39m(rows)\n\u001b[0;32m      <a href='vscode-notebook-cell:/c%3A/DAC/dac_crawldata_practice/data2_crawler.ipynb#W2sZmlsZQ%3D%3D?line=4'>5</a>\u001b[0m \u001b[39m# for row_id, row in enumerate(rows):\u001b[39;00m\n\u001b[0;32m      <a href='vscode-notebook-cell:/c%3A/DAC/dac_crawldata_practice/data2_crawler.ipynb#W2sZmlsZQ%3D%3D?line=5'>6</a>\u001b[0m \u001b[39m#     # a = row.find_all(\"a\")\u001b[39;00m\n\u001b[0;32m      <a href='vscode-notebook-cell:/c%3A/DAC/dac_crawldata_practice/data2_crawler.ipynb#W2sZmlsZQ%3D%3D?line=6'>7</a>\u001b[0m \u001b[39m#     # print(a)\u001b[39;00m\n\u001b[1;32m   (...)\u001b[0m\n\u001b[0;32m     <a href='vscode-notebook-cell:/c%3A/DAC/dac_crawldata_practice/data2_crawler.ipynb#W2sZmlsZQ%3D%3D?line=13'>14</a>\u001b[0m \u001b[39m#     #     print(prod_name,row_index)\u001b[39;00m\n\u001b[0;32m     <a href='vscode-notebook-cell:/c%3A/DAC/dac_crawldata_practice/data2_crawler.ipynb#W2sZmlsZQ%3D%3D?line=14'>15</a>\u001b[0m \u001b[39m#     #     break\u001b[39;00m\n",
      "File \u001b[1;32mc:\\DAC\\dac_crawldata_practice\\venv\\Lib\\site-packages\\bs4\\element.py:2428\u001b[0m, in \u001b[0;36mResultSet.__getattr__\u001b[1;34m(self, key)\u001b[0m\n\u001b[0;32m   2426\u001b[0m \u001b[39mdef\u001b[39;00m \u001b[39m__getattr__\u001b[39m(\u001b[39mself\u001b[39m, key):\n\u001b[0;32m   2427\u001b[0m \u001b[39m    \u001b[39m\u001b[39m\"\"\"Raise a helpful exception to explain a common code fix.\"\"\"\u001b[39;00m\n\u001b[1;32m-> 2428\u001b[0m     \u001b[39mraise\u001b[39;00m \u001b[39mAttributeError\u001b[39;00m(\n\u001b[0;32m   2429\u001b[0m         \u001b[39m\"\u001b[39m\u001b[39mResultSet object has no attribute \u001b[39m\u001b[39m'\u001b[39m\u001b[39m%s\u001b[39;00m\u001b[39m'\u001b[39m\u001b[39m. You\u001b[39m\u001b[39m'\u001b[39m\u001b[39mre probably treating a list of elements like a single element. Did you call find_all() when you meant to call find()?\u001b[39m\u001b[39m\"\u001b[39m \u001b[39m%\u001b[39m key\n\u001b[0;32m   2430\u001b[0m     )\n",
      "\u001b[1;31mAttributeError\u001b[0m: ResultSet object has no attribute 'content'. You're probably treating a list of elements like a single element. Did you call find_all() when you meant to call find()?"
     ]
    }
   ],
   "source": [
    "\n",
    "drows = soup.find_all(\"div\",class_ = \"row\")\n",
    "rows =drows.content[1]\n",
    "print(rows)\n",
    "\n",
    "# for row_id, row in enumerate(rows):\n",
    "#     # a = row.find_all(\"a\")\n",
    "#     # print(a)\n",
    "#     h4 = row.find_all(\"h4\")\n",
    "#     if h4:\n",
    "#         price = h4[0].text.strip()\n",
    "#         print(price)\n",
    "#     # if a:\n",
    "#     #     prod_name = a[0].attrs.get('title')\n",
    "#     #     print(prod_name,row_index)\n",
    "#     #     break\n",
    "    "
   ]
  }
 ],
 "metadata": {
  "kernelspec": {
   "display_name": "venv",
   "language": "python",
   "name": "python3"
  },
  "language_info": {
   "codemirror_mode": {
    "name": "ipython",
    "version": 3
   },
   "file_extension": ".py",
   "mimetype": "text/x-python",
   "name": "python",
   "nbconvert_exporter": "python",
   "pygments_lexer": "ipython3",
   "version": "3.12.0"
  }
 },
 "nbformat": 4,
 "nbformat_minor": 2
}
